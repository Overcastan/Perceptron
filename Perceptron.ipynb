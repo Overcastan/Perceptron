{
 "cells": [
  {
   "cell_type": "markdown",
   "metadata": {},
   "source": [
    "## Multilayer perceptron. Stochastic gradient descent\n"
   ]
  },
  {
   "cell_type": "markdown",
   "metadata": {},
   "source": [
    "### Класс перцептрона\n",
    "Вход            -   столбец $ W_{in} \\;[ 784 \\times 1] $, $ 784 = 28 \\times 28 $ -- размер исходного изображения  \n",
    "Первый слой     -   столбец $ S_{1} \\; [16 \\times 1] $  \n",
    "Второй слой     -   столбец $ S_{2} \\; [10 \\times 1] $  \n",
    "Выходной слой   -   столбец $ W_{out} \\; [10 \\times 1] $  \n",
    "В выходном слое в элементе $W_{out}[i], i \\in [0,9]$ содержится оценка вероятности того, что на вход подано изображение числа $i$  \n",
    "В качестве функции активации используется сигмоида $\\sigma (x) = \\frac{1}{1 + e^{-x}}$  "
   ]
  },
  {
   "cell_type": "code",
   "execution_count": 1,
   "metadata": {},
   "outputs": [],
   "source": [
    "from mnist import MNIST\n",
    "import numpy as np\n",
    "import matplotlib.pyplot as plt\n",
    "\n",
    "\n",
    "class Perceptron:\n",
    "    # INFO\n",
    "    # Matrix sizes\n",
    "\n",
    "    # s_in:  [w_in_dim  x 1        ]\n",
    "    # w_1:   [w_1_dim   x w_in_dim ]\n",
    "    # w_2:   [w_2_dim   x w_1_dim  ]\n",
    "    # w_3:   [w_out_dim x w_2_dim  ]\n",
    "    # s_out: [w_out_dim x 1        ]\n",
    "\n",
    "    s_in_dim = 0  # size of input vector\n",
    "    w_1_dim = 0  # number of rows in 1st hidden layer\n",
    "    w_2_dim = 0  # number of rows in 2nd hidden layer\n",
    "    s_out_dim = 0  # size of output vector\n",
    "\n",
    "    layers = []  # [w_1, w_2, w_3]\n",
    "    w_1 = []  # matrix with coefficients in ->  1\n",
    "    w_2 = []  # matrix with coefficients 1  ->  2\n",
    "    w_3 = []  # matrix with coefficients 2  ->  out\n",
    "\n",
    "    delta_w_1 = []\n",
    "    delta_w_2 = []\n",
    "    delta_w_3 = []\n",
    "\n",
    "    eta = 0\n",
    "    test_num = 0  # 0 in the beginning of learning. Increases when picture is processed\n",
    "    epoch_num = 0  # 0 in the beginning of learning. Increases when the whole battery of test pictures is processed\n",
    "\n",
    "    error = []  # array of errors of all the tests\n",
    "\n",
    "    def act_func(self, x):\n",
    "        return 1 / (1 + np.exp(-x))\n",
    "\n",
    "    def __init__(self, s_in_dim, w_1_dim, w_2_dim, s_out_dim, is_continuation):\n",
    "        if is_continuation:\n",
    "            self.load_changes()\n",
    "        else:\n",
    "            self.s_in_dim = s_in_dim\n",
    "            self.w_1_dim = w_1_dim\n",
    "            self.w_2_dim = w_2_dim\n",
    "            self.s_out_dim = s_out_dim\n",
    "\n",
    "            self.w_1 = np.random.sample((w_1_dim, s_in_dim)) / 10000\n",
    "            self.w_2 = np.random.sample((w_2_dim, w_1_dim)) / 100\n",
    "            self.w_3 = np.random.sample((s_out_dim, w_2_dim)) / 10\n",
    "\n",
    "            self.delta_w_1 = np.zeros((w_1_dim, s_in_dim))\n",
    "            self.delta_w_2 = np.zeros((w_2_dim, w_1_dim))\n",
    "            self.delta_w_3 = np.zeros((s_out_dim, w_2_dim))\n",
    "\n",
    "            self.layers = [self.w_1, self.w_2, self.w_3]\n",
    "\n",
    "    def recognize(self, picture):\n",
    "        s_1 = self.act_func(self.w_1 @ picture)\n",
    "        s_2 = self.act_func(self.w_2 @ s_1)\n",
    "        s_out = self.act_func(self.w_3 @ s_2)\n",
    "        print(s_out)\n",
    "        return np.argmax(s_out)\n",
    "\n",
    "    def back_propagation(self, picture, ans, alpha):\n",
    "        picture = np.array(picture).reshape((len(picture), 1))\n",
    "        s_1 = self.act_func(self.w_1 @ picture)\n",
    "        s_2 = self.act_func(self.w_2 @ s_1)\n",
    "        s_out = self.act_func(self.w_3 @ s_2)\n",
    "\n",
    "        indicators = np.zeros(self.s_out_dim)\n",
    "        indicators[ans] = 1\n",
    "\n",
    "        delta_3 = s_out * (s_out - np.ones(self.s_out_dim).reshape((self.s_out_dim, 1))) * (\n",
    "                indicators.reshape((self.s_out_dim, 1)) - s_out)\n",
    "        delta_2 = 100 * s_2 * (np.ones(len(s_2)).reshape((len(s_2), 1)) - s_2) * (self.w_3.T @ delta_3)\n",
    "        delta_1 = 10000 * s_1 * (np.ones(len(s_1)).reshape((len(s_1), 1)) - s_1) * (self.w_2.T @ delta_2)\n",
    "\n",
    "        self.delta_w_3 = alpha * self.delta_w_3 + \\\n",
    "                         ((1 - alpha) * self.eta * s_2.reshape((self.w_2_dim, 1)) @ delta_3.reshape(\n",
    "                             (1, self.s_out_dim))).T\n",
    "        self.delta_w_2 = alpha * self.delta_w_2 + \\\n",
    "                         ((1 - alpha) * self.eta * s_1.reshape((self.w_1_dim, 1)) @ delta_2.reshape(\n",
    "                             (1, self.w_2_dim))).T\n",
    "        self.delta_w_1 = alpha * self.delta_w_1 + \\\n",
    "                         ((1 - alpha) * self.eta * picture @ delta_1.reshape((1, self.w_1_dim))).T\n",
    "\n",
    "        self.w_3 -= self.delta_w_3\n",
    "        self.w_2 -= self.delta_w_2\n",
    "        self.w_1 -= self.delta_w_1\n",
    "\n",
    "        self.error.append(np.linalg.norm(indicators - s_out) / 2)\n",
    "\n",
    "    def save_changes(self):\n",
    "        pass\n",
    "\n",
    "    def load_changes(self):\n",
    "        pass\n",
    "\n",
    "    def teach(self, epochs_num):\n",
    "        mndata = MNIST('samples')\n",
    "        images, labels = mndata.load_testing()\n",
    "\n",
    "        self.load_changes()\n",
    "\n",
    "        for epoch in range(epochs_num):\n",
    "            self.eta = 2 / (self.epoch_num + 1 + self.test_num ** (1 / 10))\n",
    "            for image, label in zip(images, labels):\n",
    "                self.back_propagation(image, label, 0.1)\n",
    "                self.test_num += 1\n",
    "            self.save_changes()\n",
    "            self.epoch_num += 1\n",
    "            self.test_num = 0\n",
    "            print('Epoch {} pocessed'.format(self.epoch_num))\n",
    "\n",
    "        fig, ax = plt.subplots()\n",
    "        x = range(len(self.error))\n",
    "        y = self.error\n",
    "        ax.plot(x, y, label='Значение функции ошибок')\n",
    "        plt.grid()\n",
    "        plt.show()"
   ]
  },
  {
   "cell_type": "code",
   "execution_count": 2,
   "metadata": {},
   "outputs": [
    {
     "name": "stderr",
     "output_type": "stream",
     "text": [
      "c:\\program files (x86)\\jetbrains\\python\\lib\\site-packages\\ipykernel_launcher.py:37: RuntimeWarning: overflow encountered in exp\n"
     ]
    },
    {
     "name": "stdout",
     "output_type": "stream",
     "text": [
      "Epoch 1 pocessed\n",
      "Epoch 2 pocessed\n",
      "Epoch 3 pocessed\n",
      "Epoch 4 pocessed\n",
      "Epoch 5 pocessed\n",
      "Epoch 6 pocessed\n",
      "Epoch 7 pocessed\n",
      "Epoch 8 pocessed\n",
      "Epoch 9 pocessed\n",
      "Epoch 10 pocessed\n"
     ]
    },
    {
     "data": {
      "image/png": "[encoded data removed]",
      "text/plain": [
       "<Figure size 432x288 with 1 Axes>"
      ]
     },
     "metadata": {
      "needs_background": "light"
     },
     "output_type": "display_data"
    },
    {
     "name": "stdout",
     "output_type": "stream",
     "text": [
      "Wall time: 34.3 s\n"
     ]
    }
   ],
   "source": [
    "%%time\n",
    "perchik = Perceptron(28 * 28, 16, 16, 10, False)\n",
    "perchik.teach(10)"
   ]
  },
  {
   "cell_type": "code",
   "execution_count": 3,
   "metadata": {},
   "outputs": [
    {
     "name": "stdout",
     "output_type": "stream",
     "text": [
      "[0.09992113 0.11862804 0.09558518 0.09868248 0.10025825 0.07658589\n",
      " 0.10352108 0.11490993 0.09281755 0.07680261]\n"
     ]
    },
    {
     "name": "stderr",
     "output_type": "stream",
     "text": [
      "c:\\program files (x86)\\jetbrains\\python\\lib\\site-packages\\ipykernel_launcher.py:37: RuntimeWarning: overflow encountered in exp\n"
     ]
    },
    {
     "data": {
      "text/plain": [
       "1"
      ]
     },
     "execution_count": 3,
     "metadata": {},
     "output_type": "execute_result"
    }
   ],
   "source": [
    "mndata = MNIST('samples')\n",
    "images, labels = mndata.load_testing()\n",
    "perchik.recognize(images[0])"
   ]
  },
  {
   "cell_type": "code",
   "execution_count": null,
   "metadata": {},
   "outputs": [],
   "source": []
  }
 ],
 "metadata": {
  "kernelspec": {
   "display_name": "Python 3",
   "language": "python",
   "name": "python3"
  },
  "language_info": {
   "codemirror_mode": {
    "name": "ipython",
    "version": 3
   },
   "file_extension": ".py",
   "mimetype": "text/x-python",
   "name": "python",
   "nbconvert_exporter": "python",
   "pygments_lexer": "ipython3",
   "version": "3.7.1"
  }
 },
 "nbformat": 4,
 "nbformat_minor": 2
}
